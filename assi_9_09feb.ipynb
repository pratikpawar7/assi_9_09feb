{
 "cells": [
  {
   "cell_type": "code",
   "execution_count": 73,
   "id": "71207826-fe97-4934-be90-0802797d210f",
   "metadata": {},
   "outputs": [
    {
     "name": "stdout",
     "output_type": "stream",
     "text": [
      "2\n"
     ]
    }
   ],
   "source": [
    "'''\n",
    "Q1, Create a vehicle class with an init method having instance variables as name_of_vehicle, max_speed\n",
    "and average_of_vehicle.\n",
    "'''\n",
    "\n",
    "class vehical:\n",
    "    def __init__(self, name_of_vehical, max_speed , average_of_vehical):\n",
    "        self.name_of_vehical = name_of_vehical\n",
    "        self.max_speed = max_speed \n",
    "        self.average_of_vehical  = average_of_vehical\n",
    "        \n",
    "    def student(self):\n",
    "        return self.name_of_vehical,self.max_speed,self.average_of_vehical\n",
    "        \n",
    "        \n",
    "obj = vehical(\"buggati\" , 320 , 17)\n",
    "obj.name_of_vehical\n"
   ]
  },
  {
   "cell_type": "code",
   "execution_count": 72,
   "id": "4a1b6bc6-1d85-4e46-af70-a02c85cd14e0",
   "metadata": {},
   "outputs": [
    {
     "name": "stdout",
     "output_type": "stream",
     "text": [
      "<bound method car.seating_capacity of <__main__.car object at 0x7fc9e420c280>>\n",
      "buggati\n"
     ]
    }
   ],
   "source": [
    "'''\n",
    "Q2. Create a child class car from the vehicle class created in Que 1, which will inherit the vehicle class.\n",
    "Create a method named seating_capacity which takes capacity as an argument and returns the name of\n",
    "the vehicle and its seating capacity.\n",
    "'''\n",
    "\n",
    "class car(vehical):\n",
    "    def __init__(self, seating_capa):\n",
    "        self.seating_capa = seating_capa\n",
    "        \n",
    "    def seating_capacity(self):\n",
    "        return seating_capacity\n",
    "    \n",
    "        \n",
    "        \n",
    "obj6 = car(2)\n",
    "print(obj6.seating_capacity)\n",
    "print(obj.name_of_vehical)\n",
    "\n"
   ]
  },
  {
   "cell_type": "code",
   "execution_count": 25,
   "id": "e0b6eaea-77ef-4cc4-a3a1-4bbe43f7ac31",
   "metadata": {},
   "outputs": [
    {
     "name": "stdout",
     "output_type": "stream",
     "text": [
      "This is the functionof class A\n",
      "This is the function of class B\n",
      "This is the function of the class C \n"
     ]
    }
   ],
   "source": [
    "'''\n",
    "Q3. What is multiple inheritance? Write a python code to demonstrate multiple inheritance.\n",
    "'''\n",
    "# multiple inheritance is the inherit the where one class can inherit a more than one classes \n",
    "\n",
    "class classA:\n",
    "    def func(self):\n",
    "        print(\"This is the functionof class A\")\n",
    "        \n",
    "class classB:\n",
    "    def func1(self):\n",
    "        print(\"This is the function of class B\")\n",
    "        \n",
    "class classC(classA, classB):\n",
    "    def func2(self):\n",
    "        print(\"This is the function of the class C \")\n",
    "        \n",
    "obj= classC()\n",
    "obj.func()\n",
    "obj.func1()\n",
    "obj.func2()"
   ]
  },
  {
   "cell_type": "code",
   "execution_count": null,
   "id": "647e8679-d706-49ad-90c9-496b974302b0",
   "metadata": {},
   "outputs": [],
   "source": [
    "'''\n",
    "Q4. What are getter and setter in python? Create a class and create a getter and a setter method in this\n",
    "class.\n",
    "'''\n",
    "\n",
    "setter are used for set the private variable without the class name\n",
    "getter is get a private variable without the class name \n",
    "\n",
    "Getters: These are the methods used in OOProgramming which helps to access the private attributes from a class. \n",
    "Setters: These are the methods used in OOPS feature which helps to set the value to private attributes in a class."
   ]
  },
  {
   "cell_type": "code",
   "execution_count": 44,
   "id": "f0910dd8-2e38-4308-bc02-1acae9761cd2",
   "metadata": {},
   "outputs": [
    {
     "name": "stdout",
     "output_type": "stream",
     "text": [
      "45\n",
      "name before change\n",
      "banti\n",
      "name after change\n",
      "pratik\n"
     ]
    }
   ],
   "source": [
    "#example \n",
    "\n",
    "class setter_getter:\n",
    "    def __init__(self, name , age ):\n",
    "        self.__name = name   #NAME is the private variable \n",
    "        self.age = age        # age is the public variable \n",
    "        \n",
    "    @property\n",
    "    def name_acces(self):\n",
    "        return self.__name\n",
    "    \n",
    "    @name_acces.setter\n",
    "    def change_name(self,name):\n",
    "        self.__name = name \n",
    "        \n",
    "        \n",
    "    \n",
    "obj3= setter_getter(\"banti\" , 45)\n",
    "print(obj3.age)\n",
    "#obj3.name      it gives error because it is not public it is private is can accesable only by using getter\n",
    "print(\"name before change:\")\n",
    "print(obj3.name_acces)\n",
    "obj3.change_name=\"pratik\"\n",
    "print('name after change:')\n",
    "print(obj3.name_acces)"
   ]
  },
  {
   "cell_type": "code",
   "execution_count": 46,
   "id": "f22421c4-d6c3-4920-ad66-3887f7449a00",
   "metadata": {},
   "outputs": [
    {
     "name": "stdout",
     "output_type": "stream",
     "text": [
      " we are sleeping in child class\n"
     ]
    }
   ],
   "source": [
    "\n",
    "'''\n",
    "Q5.What is method overriding in python? Write a python code to demonstrate method overriding.\n",
    "'''\n",
    "#  method overridding is occurs when child class have a same method occurs in the parent class\n",
    "\n",
    "class parent:\n",
    "    def sleeping(self):\n",
    "        print(\"i am sleeping in parent class\")\n",
    "\n",
    "class child(parent):\n",
    "    def sleeping(self):\n",
    "        print(\" we are sleeping in child class\")\n",
    "                \n",
    "obj5= child()\n",
    "obj5.sleeping()\n",
    "\n"
   ]
  },
  {
   "cell_type": "code",
   "execution_count": null,
   "id": "19e09822-2344-40c6-9f2e-98db0a01918c",
   "metadata": {},
   "outputs": [],
   "source": []
  }
 ],
 "metadata": {
  "kernelspec": {
   "display_name": "Python 3 (ipykernel)",
   "language": "python",
   "name": "python3"
  },
  "language_info": {
   "codemirror_mode": {
    "name": "ipython",
    "version": 3
   },
   "file_extension": ".py",
   "mimetype": "text/x-python",
   "name": "python",
   "nbconvert_exporter": "python",
   "pygments_lexer": "ipython3",
   "version": "3.10.8"
  }
 },
 "nbformat": 4,
 "nbformat_minor": 5
}
